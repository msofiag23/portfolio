{
 "cells": [
  {
   "cell_type": "code",
   "execution_count": 8,
   "metadata": {},
   "outputs": [],
   "source": [
    "from pydub import AudioSegment\n",
    "\n",
    "# especifica el archivo de audio que deseas transcribir\n",
    "audio_file = r\"ruta_de_archivo\"\n"
   ]
  },
  {
   "cell_type": "code",
   "execution_count": 9,
   "metadata": {},
   "outputs": [],
   "source": [
    "audio = AudioSegment.from_wav(audio_file)"
   ]
  },
  {
   "cell_type": "code",
   "execution_count": 10,
   "metadata": {},
   "outputs": [],
   "source": [
    "# especifica la duración en milisegundos de cada segmento. En este caso se el audio de origen tenia 11 minutos y 35 segundos\n",
    "segment_duration = 120000  #2 minutos "
   ]
  },
  {
   "cell_type": "code",
   "execution_count": 11,
   "metadata": {},
   "outputs": [],
   "source": [
    "for i, segment in enumerate(audio[::segment_duration]):\n",
    "    # especifica el nombre del archivo de salida para cada segmento\n",
    "    segment_file = fr\"ruta_de_archivo{i}.wav\"\n",
    "    # guarda cada segmento de audio en un archivo WAV utilizando la función 'segment.export()'\n",
    "    segment.export(segment_file, format=\"wav\")"
   ]
  },
  {
   "cell_type": "code",
   "execution_count": 12,
   "metadata": {},
   "outputs": [],
   "source": [
    "import requests\n",
    "import openai\n",
    "import csv"
   ]
  },
  {
   "cell_type": "code",
   "execution_count": 13,
   "metadata": {},
   "outputs": [],
   "source": [
    "# Configura tu API key\n",
    "api_key = \"tu_api_key\"\n",
    "openai.api_key = api_key"
   ]
  },
  {
   "cell_type": "code",
   "execution_count": 15,
   "metadata": {},
   "outputs": [
    {
     "name": "stdout",
     "output_type": "stream",
     "text": [
      "Transcripción del archivo C:\\Users\\Sofia\\Downloads\\Viviana-Notario0.wav: Bueno, listo. Bueno, a ver, legalización del aborto, ¿qué temita? ¿Qué temita que enfrentó la sociedad? Yo hoy tengo mi duda si enfrentó la sociedad en cuanto a pensamiento o por una razón política. Yo digo siempre, cualquier reclamo que uno haga, cuando ya se hace circo, pierde fuerza el reclamo o pierde fuerza la manifestación. O sea, tal vez la legalización del aborto, o sea, a mí pasa por cada uno. Yo no lo haría, espero que mi hija tampoco, pero yo no puedo decidir esas cosas porque si ella hoy o mañana lo va a querer hacer o lo que fuere y está dentro de un marco legal, yo le voy a decir, no lo haga, pero está en cuestión de ella. Esto acá empezó a lo mejor como algo bueno porque si había tantas muertes por aborto clandestinos, si había tantos problemas por eso y, bueno, querían hacerlo dentro del marco legal, para solucionar esa parte, me parece bárbaro, me parece mal que un médico tenga que, esté obligado a hacerlo, porque si te cae en una clínica que lo tiene que hacer, si dice que no, tengo entendido de que no es simple, de que no lo va a dejar de hacer porque no lo quiere hacer. Pero a mí lo que a mí me molesta de todo eso es que quienes más reclamaban, quienes más pedían la legalización del aborto, yo creo que lo hacían más para llamar la atención o para decir, yo si no me quiero cuidar, no me cuido y total tengo la solución, porque convengamos que hoy falta conciencia de cómo cuidar, porque ¿para qué vas a abortar?\n",
      "Transcripción del archivo C:\\Users\\Sofia\\Downloads\\Viviana-Notario1.wav: si total te podés cuidar antes, o sea, a mí lo que me molesta, no estoy en contra, pero me molesta, es que lo buscaron como una solución más a la falta de anticoncepción o de conciencia que otra cosa. La legalización del aborto en determinados temas ya está legalizado eso, en caso de violación, en caso, ya había una legislación, no estaba la parte de, bueno, yo quedé embarazada porque estuve con un vago el sábado y bueno, y lo voy a abortar, eso es lo que no estaba legalizado, que ahora se hace, pero lo que a mí me hacía ruido. Ahí es donde trato de buscar los grises, porque yo el primer momento que dije, no, pero esas hay que matar a todas que tienen que hacer tanto quilombo. Después, bueno, mis hijos conversando, porque ellos tienen otra mirada, que no son así de que no les importa nada, pero es como que ellos te hacen ver de que tiene que haber grises en ese tema y de que si uno quiere hacer algo, lo termina haciendo mal, bien. Yo decía que se mueran todas y van a abortar clandestinamente, porque esa fue mi reacción de años atrás y bueno, y hoy es como que, no sé si cambiando, pero fui como suavizando un poco la mirada y yo tengo un médico que él dice que no lo haría, pero dice, si yo no lo hago y me denuncian, voy a tener más líos que, o sea, porque después lo llevan a la justicia, un montón de cosas. Acá en el pueblo no se ve, pero en la ciudad sé que sí, que hay un montón de casos. Pero bueno, por más que a mí no me guste y eso está, no sé si estamos preparados para que sea legal y que sea\n",
      "Transcripción del archivo C:\\Users\\Sofia\\Downloads\\Viviana-Notario2.wav: todo libre, que ahora es como que no se escucha más nada, no sé si realmente son muchos casos de los abortos que van a hacer a las clínicas o no, o si fue solamente como para llamar la atención con algo donde se metió la política en el medio. Eso es lo que a mí me hizo ruido. Entonces como que digo, bueno, estos casos son los mismos de siempre, los que van por los planes, los que van por otros, que no tienen nada que hacer, tiki, tiki, tiki, tiki, y bueno. Y ahora no sé en qué está porque no dijeron más nada, políticamente no se habló más del tema. Pero bueno, es eso, o sea, al principio me hacía mucho ruido, me puse mal, o sea, no salí ni manifestarme de los pañuelos celestes, nada por el estilo, pero sí me molestó mucho. Y hoy digo, y bueno, si lo quieren hacer, pues lo van a hacer clandestinamente o legalmente, así que, pero básicamente eso. No soy de hablar mucho. Vivi, contame un poquito más, desarrollame por favor un poquito más esta idea de que se metió la política en el medio, ¿a qué te referís con eso? Porque yo lo vi que fue, era más contra Macri me pareció que otra cosa, porque se vio justo cuando tenían que de alguna forma, de alguna forma hacer quilombo con algo, entonces como que fueron chuceados por los colectivos benditos estos, de las mujeres, por todas esas cosas, que para mí eso es todo política, eso fue todo político, porque, o sea, las manifestaciones quienes iban, vos veías y decías, esto no laburan, esto, a lo mejor eran ingenieros nucleares y yo los juzgaba que no laburaban, pero me daba la sensación esa de que eran todos chuceados políticamente, cuando ellos hacían las manifestaciones estaban los colectivos \n",
      "Transcripción del archivo C:\\Users\\Sofia\\Downloads\\Viviana-Notario3.wav: taranjado, esperándolo para después cargarlo y llevarlo. Se mezclaba el aborto con los trans, o sea, empezaron a mezclar un montón de cosas y la política siempre en el medio. Entonces me daba esa sensación, a lo mejor estoy recontra equivocada, pero bueno, me daba esa sensación como que la política era contra el que estaba de turno y entonces bueno, salgamos a la calle y hagamos quilombo, y me daba esa sensación porque después, ahora, hace cuatro años que no se escuchó más nada. Hace cuatro años que no se escuchó un reclamo, hace cuatro años que toda esa gente, o está bien, ahora tienen más planes, tienen más cosas, pero me dio la sensación esa, de que fue más una movida política que otra cosa. Bien. Y respecto a lo que vos decías, que ya había como una legislación previa, y a la hora de poner la ley, de aprobar esta ley, ¿qué crees que faltó o falta, si es que para vos falta algo, de parte del Estado en acompañar que esta ley acompañe una conciencia más madura, más consciente, valga la redundancia? Yo creo que el problema no es el Estado, el problema es de nosotros. El problema es de la gente. Hoy no nos importa, tenés preservativo en todos lados, tenés las pastillas anticonceptivas en todos los hospitales gratis, tenés todo, y hoy no importa, y bueno, quedo embarazada y bueno, voy a aborto. O sea, me da esa sensación de que el Estado, de una vez por todas, dejemos de culpar al Estado, porque el Estado tiene que estar por la cosa más grande. Eso es educación, eso es valores, principios. Yo no pretendo que el Estado todos los días ponga una publicidad para que mi hija tome la pastilla todas las noches. O sea, yo la senté a mi hija, la llevé a la ginecóloga, le digo que no, que no, que no.\n",
      "Transcripción del archivo C:\\Users\\Sofia\\Downloads\\Viviana-Notario4.wav: le dije las cosas como eran y todos los días yo le dije yo todos los días te la cuento, el día que no la tomes pobre de vos y todos los días se la cuento, tiene 17 años y bueno y nunca se olvidó de tomar uno, o sea pasa un poco por la educación y por nosotros, tenemos que empezar a comprometernos, por ejemplo de 40 chicos que son del grado de Manuela te puedo asegurar que 5 aprendieron educación sexual en mi casa conmigo, entonces pasa un poco por la educación, para mí eso es fundamental, el Estado también hace cosas pero tampoco no podemos estar mirando la tele y cada rato vayan a buscar preservativo y fíjense porque no le importa después si tienen un chico o si lo abortan, porque el que va a abortar si lo tiene pobre chico a lo mejor va a ser uno que lo van a tener para cobrar la asignación universal y nada más, o sea a mí me da la sensación esa que el Estado ya hace, o sea tiene a Nessie en el colegio, aprovechen, denlo como corresponde esa materia, entonces Nessie si dan eso pero también te lo disfrazan con otra cosa, hablan de pelotudeces, falta compromiso en todos lados, pero para mí el Estado hace su campaña, ahora también desapareció porque ahora las prioridades son otras, desapareció todo tipo de prevención, no nomás de eso, de enfermedades venéreas, de un montón de cosas que son recontra preocupantes, de la HIV no se habló más, o sea y no es que desapareció, en esa parte bueno puede que falle porque se dan prioridades a otras cosas que a ellos les venden más, pero eso es el tema del aborto, entonces me parece que nosotros tenemos que empezar a ponernos las pilas como sociedad y los papás ser papá y no amigo, la mía a lo mejor va a quedar embarazada, o sea yo no digo que los míos no, pero creo que dándole valores y metiéndole educación y corriéndolos atrás.\n",
      "Transcripción del archivo C:\\Users\\Sofia\\Downloads\\Viviana-Notario5.wav: Y, bueno, las herramientas las tienen, de última te mandaste el mojo, bancaste el ópera. Hoy falta compromiso de la gente. Bien. Soy muy mala. ¿Eh? Soy muy mala. Vivi, ya está para vos. No, la vergüenza es que soy vieja, no hay vuelta a quedarme. No, por favor. No hay vuelta a quedarme. ¿Ya está para vos, Vivi, o qué quisieras decir algo más respecto al tema? No, pues no tengo mucho más que decir. O sea, no soy de hablar mucho. Y es como que, bueno, eso es lo que yo pienso. Que por ahí sí era blanco, blanco, negro, negro. Y después a poco es como que, bueno, sí, ya está la ley. Bueno, ya está. Y bueno, que cada uno haga lo que quiera, pero que sean responsables. Lo que a mí me molesta de eso es que se use como para cubrir una cosa que hicieron con una joda o con una falta de responsabilidad. Porque una cosa es que tenga cinco chicos, una pareja que tenga cinco hijos, que quede embarazada, que estén en situación mala o lo que fuera, y bueno, decidieron abortar. Bueno, uno más no lo podían criar, qué sé yo. Uno le pone atenuantes. Para mí sigue siendo malo, pero tiene sus atenuantes. Ponele. Pero lo que me molesta es que una pendeja falopeada todo quedó embarazada. A los tres meses se dio cuenta que no menstruaba. Fue toda embarazada y abortó. Sí me molesta. Y lo que me molesta es que el Estado tenga que hacerse cargo de eso también. Pero bueno, son situaciones.\n",
      "Transcripciones exportadas a transcripciones.csv\n"
     ]
    }
   ],
   "source": [
    "# Lista para almacenar las transcripciones\n",
    "transcriptions = []\n",
    "\n",
    "# Itera sobre los archivos de segmento\n",
    "for i in range(0, N+1):  # Donde N es el número total de segmentos que tienes (duracion total / duracion segmentos)\n",
    "    segment_file = fr\"ruta_de_archivo{i}.wav\"\n",
    "\n",
    "    # Abre y transcribe el archivo de audio\n",
    "    with open(segment_file, \"rb\") as audio_file:\n",
    "        transcript = openai.Audio.transcribe(\"whisper-1\", audio_file)\n",
    "        transcriptions.append(transcript['text'])\n",
    "        print(f\"Transcripción del archivo {segment_file}: {transcript['text']}\")\n",
    "\n",
    "# Exporta las transcripciones a un archivo CSV\n",
    "csv_file = \"transcripciones.csv\"\n",
    "with open(csv_file, mode=\"w\", newline=\"\", encoding=\"utf-8\") as file:\n",
    "    writer = csv.writer(file)\n",
    "    writer.writerow([\"Archivo\", \"Transcripcion\"])  # Encabezados\n",
    "    for i, transcription in enumerate(transcriptions):\n",
    "        writer.writerow([f\"archivo_de_audio{i}.wav\", transcription])\n",
    "\n",
    "print(\"Transcripciones exportadas a\", csv_file)\n"
   ]
  }
 ],
 "metadata": {
  "kernelspec": {
   "display_name": "data23",
   "language": "python",
   "name": "python3"
  },
  "language_info": {
   "codemirror_mode": {
    "name": "ipython",
    "version": 3
   },
   "file_extension": ".py",
   "mimetype": "text/x-python",
   "name": "python",
   "nbconvert_exporter": "python",
   "pygments_lexer": "ipython3",
   "version": "3.11.4"
  },
  "orig_nbformat": 4
 },
 "nbformat": 4,
 "nbformat_minor": 2
}
